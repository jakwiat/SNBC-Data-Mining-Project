{
 "cells": [
  {
   "cell_type": "code",
   "execution_count": 5,
   "id": "initial_id",
   "metadata": {
    "collapsed": true,
    "ExecuteTime": {
     "end_time": "2023-11-29T13:18:42.349979900Z",
     "start_time": "2023-11-29T13:18:42.308707100Z"
    }
   },
   "outputs": [],
   "source": [
    "import pandas as pd\n",
    "from math import sqrt\n",
    "\n",
    "import datetime\n"
   ]
  },
  {
   "cell_type": "code",
   "execution_count": 6,
   "outputs": [],
   "source": [
    "points = [\n",
    "    (3.7216,51.053),\n",
    "    (4.4139,51.2128),\n",
    "    (5.1317,51.1915),\n",
    "    (4.3798,50.8336),\n",
    "    (4.7121,50.8826),\n",
    "    (5.3255,50.9273),\n",
    "    (5.5407,50.6334),\n",
    "    (4.3798,50.414),\n",
    "    (4.8676,50.463),\n",
    "    (4.4927,50.0604),\n",
    "    (4.9847,49.9859),\n",
    "    (3.9474,50.4524),\n",
    "    (3.8686,50.77612),\n",
    "    (5.0934,50.742),\n",
    "    (5.5428,51.2511)\n",
    "]"
   ],
   "metadata": {
    "collapsed": false,
    "ExecuteTime": {
     "end_time": "2023-11-29T13:22:35.949491700Z",
     "start_time": "2023-11-29T13:22:35.940477100Z"
    }
   },
   "id": "d77c647097587a40"
  },
  {
   "cell_type": "code",
   "execution_count": 9,
   "outputs": [],
   "source": [
    "def find_closest(lon, lat):\n",
    "    dists = []\n",
    "    for p in points:\n",
    "        dists.append(sqrt((p[0] - lon)**2 + (p[1] - lat)**2))\n",
    "    return dists.index(min(dists))"
   ],
   "metadata": {
    "collapsed": false,
    "ExecuteTime": {
     "end_time": "2023-11-29T13:31:23.896322600Z",
     "start_time": "2023-11-29T13:31:23.864998500Z"
    }
   },
   "id": "a4fcdd5ea2cf69c7"
  },
  {
   "cell_type": "code",
   "execution_count": 26,
   "outputs": [],
   "source": [
    "def find_timestamp(timestr):\n",
    "    month = timestr.month\n",
    "    day = timestr.day\n",
    "    hour = timestr.hour\n",
    "    minute = timestr.minute\n",
    "    minute += hour*60\n",
    "    rest = minute % 180\n",
    "    hour = int((minute - rest)/ 60)\n",
    "    datum = datetime.datetime(2023, month, day, hour)\n",
    "    if rest > 90:\n",
    "        datum = datum + datetime.timedelta(hours=3)\n",
    "    return datum"
   ],
   "metadata": {
    "collapsed": false,
    "ExecuteTime": {
     "end_time": "2023-11-29T19:41:55.659147300Z",
     "start_time": "2023-11-29T19:41:55.641129Z"
    }
   },
   "id": "8895e9b990c94229"
  },
  {
   "cell_type": "markdown",
   "source": [
    "# Read and process train data"
   ],
   "metadata": {
    "collapsed": false
   },
   "id": "1cd21eff896ecfe5"
  },
  {
   "cell_type": "code",
   "execution_count": 2,
   "outputs": [
    {
     "data": {
      "text/plain": "   Unnamed: 0  mapped_veh_id       timestamps_UTC        lat       lon  \\\n0           0          181.0  2023-08-01 03:44:12  50.769818  3.872114   \n1           1          143.0  2023-08-01 06:36:29  51.039993  3.693429   \n2           2          183.0  2023-08-24 06:53:54  50.742203  3.602035   \n3           3          177.0  2023-08-01 13:53:38  50.930914  5.327132   \n4           4          143.0  2023-08-24 07:02:30  51.180773  3.575259   \n\n   RS_E_InAirTemp_PC1  RS_E_InAirTemp_PC2  RS_E_OilPress_PC1  \\\n0                27.0                23.0              255.0   \n1                33.0                32.0              272.0   \n2                31.0                33.0              234.0   \n3                35.0                38.0              220.0   \n4                41.0                34.0              227.0   \n\n   RS_E_OilPress_PC2  RS_E_RPM_PC1  RS_E_RPM_PC2  RS_E_WatTemp_PC1  \\\n0              238.0         794.0         801.0              83.0   \n1              324.0         802.0         804.0              78.0   \n2              182.0         799.0         802.0              82.0   \n3              244.0         794.0         801.0              77.0   \n4              282.0         806.0         800.0              85.0   \n\n   RS_E_WatTemp_PC2  RS_T_OilTemp_PC1  RS_T_OilTemp_PC2  \n0              81.0              76.0              77.0  \n1              78.0              73.0              74.0  \n2              82.0              85.0              87.0  \n3              81.0              78.0              82.0  \n4              78.0              82.0              79.0  ",
      "text/html": "<div>\n<style scoped>\n    .dataframe tbody tr th:only-of-type {\n        vertical-align: middle;\n    }\n\n    .dataframe tbody tr th {\n        vertical-align: top;\n    }\n\n    .dataframe thead th {\n        text-align: right;\n    }\n</style>\n<table border=\"1\" class=\"dataframe\">\n  <thead>\n    <tr style=\"text-align: right;\">\n      <th></th>\n      <th>Unnamed: 0</th>\n      <th>mapped_veh_id</th>\n      <th>timestamps_UTC</th>\n      <th>lat</th>\n      <th>lon</th>\n      <th>RS_E_InAirTemp_PC1</th>\n      <th>RS_E_InAirTemp_PC2</th>\n      <th>RS_E_OilPress_PC1</th>\n      <th>RS_E_OilPress_PC2</th>\n      <th>RS_E_RPM_PC1</th>\n      <th>RS_E_RPM_PC2</th>\n      <th>RS_E_WatTemp_PC1</th>\n      <th>RS_E_WatTemp_PC2</th>\n      <th>RS_T_OilTemp_PC1</th>\n      <th>RS_T_OilTemp_PC2</th>\n    </tr>\n  </thead>\n  <tbody>\n    <tr>\n      <th>0</th>\n      <td>0</td>\n      <td>181.0</td>\n      <td>2023-08-01 03:44:12</td>\n      <td>50.769818</td>\n      <td>3.872114</td>\n      <td>27.0</td>\n      <td>23.0</td>\n      <td>255.0</td>\n      <td>238.0</td>\n      <td>794.0</td>\n      <td>801.0</td>\n      <td>83.0</td>\n      <td>81.0</td>\n      <td>76.0</td>\n      <td>77.0</td>\n    </tr>\n    <tr>\n      <th>1</th>\n      <td>1</td>\n      <td>143.0</td>\n      <td>2023-08-01 06:36:29</td>\n      <td>51.039993</td>\n      <td>3.693429</td>\n      <td>33.0</td>\n      <td>32.0</td>\n      <td>272.0</td>\n      <td>324.0</td>\n      <td>802.0</td>\n      <td>804.0</td>\n      <td>78.0</td>\n      <td>78.0</td>\n      <td>73.0</td>\n      <td>74.0</td>\n    </tr>\n    <tr>\n      <th>2</th>\n      <td>2</td>\n      <td>183.0</td>\n      <td>2023-08-24 06:53:54</td>\n      <td>50.742203</td>\n      <td>3.602035</td>\n      <td>31.0</td>\n      <td>33.0</td>\n      <td>234.0</td>\n      <td>182.0</td>\n      <td>799.0</td>\n      <td>802.0</td>\n      <td>82.0</td>\n      <td>82.0</td>\n      <td>85.0</td>\n      <td>87.0</td>\n    </tr>\n    <tr>\n      <th>3</th>\n      <td>3</td>\n      <td>177.0</td>\n      <td>2023-08-01 13:53:38</td>\n      <td>50.930914</td>\n      <td>5.327132</td>\n      <td>35.0</td>\n      <td>38.0</td>\n      <td>220.0</td>\n      <td>244.0</td>\n      <td>794.0</td>\n      <td>801.0</td>\n      <td>77.0</td>\n      <td>81.0</td>\n      <td>78.0</td>\n      <td>82.0</td>\n    </tr>\n    <tr>\n      <th>4</th>\n      <td>4</td>\n      <td>143.0</td>\n      <td>2023-08-24 07:02:30</td>\n      <td>51.180773</td>\n      <td>3.575259</td>\n      <td>41.0</td>\n      <td>34.0</td>\n      <td>227.0</td>\n      <td>282.0</td>\n      <td>806.0</td>\n      <td>800.0</td>\n      <td>85.0</td>\n      <td>78.0</td>\n      <td>82.0</td>\n      <td>79.0</td>\n    </tr>\n  </tbody>\n</table>\n</div>"
     },
     "execution_count": 2,
     "metadata": {},
     "output_type": "execute_result"
    }
   ],
   "source": [
    "df = pd.read_csv('ar41_for_ulb.csv', sep = ';')"
   ],
   "metadata": {
    "collapsed": false,
    "ExecuteTime": {
     "end_time": "2023-11-29T12:52:17.763450300Z",
     "start_time": "2023-11-29T12:51:09.035330700Z"
    }
   },
   "id": "7a4d592f78761775"
  },
  {
   "cell_type": "code",
   "execution_count": 4,
   "outputs": [
    {
     "data": {
      "text/plain": "   mapped_veh_id       timestamps_UTC        lat       lon  \\\n0          181.0  2023-08-01 03:44:12  50.769818  3.872114   \n1          143.0  2023-08-01 06:36:29  51.039993  3.693429   \n2          183.0  2023-08-24 06:53:54  50.742203  3.602035   \n3          177.0  2023-08-01 13:53:38  50.930914  5.327132   \n4          143.0  2023-08-24 07:02:30  51.180773  3.575259   \n\n   RS_E_InAirTemp_PC1  RS_E_InAirTemp_PC2  RS_E_OilPress_PC1  \\\n0                27.0                23.0              255.0   \n1                33.0                32.0              272.0   \n2                31.0                33.0              234.0   \n3                35.0                38.0              220.0   \n4                41.0                34.0              227.0   \n\n   RS_E_OilPress_PC2  RS_E_RPM_PC1  RS_E_RPM_PC2  RS_E_WatTemp_PC1  \\\n0              238.0         794.0         801.0              83.0   \n1              324.0         802.0         804.0              78.0   \n2              182.0         799.0         802.0              82.0   \n3              244.0         794.0         801.0              77.0   \n4              282.0         806.0         800.0              85.0   \n\n   RS_E_WatTemp_PC2  RS_T_OilTemp_PC1  RS_T_OilTemp_PC2  \n0              81.0              76.0              77.0  \n1              78.0              73.0              74.0  \n2              82.0              85.0              87.0  \n3              81.0              78.0              82.0  \n4              78.0              82.0              79.0  ",
      "text/html": "<div>\n<style scoped>\n    .dataframe tbody tr th:only-of-type {\n        vertical-align: middle;\n    }\n\n    .dataframe tbody tr th {\n        vertical-align: top;\n    }\n\n    .dataframe thead th {\n        text-align: right;\n    }\n</style>\n<table border=\"1\" class=\"dataframe\">\n  <thead>\n    <tr style=\"text-align: right;\">\n      <th></th>\n      <th>mapped_veh_id</th>\n      <th>timestamps_UTC</th>\n      <th>lat</th>\n      <th>lon</th>\n      <th>RS_E_InAirTemp_PC1</th>\n      <th>RS_E_InAirTemp_PC2</th>\n      <th>RS_E_OilPress_PC1</th>\n      <th>RS_E_OilPress_PC2</th>\n      <th>RS_E_RPM_PC1</th>\n      <th>RS_E_RPM_PC2</th>\n      <th>RS_E_WatTemp_PC1</th>\n      <th>RS_E_WatTemp_PC2</th>\n      <th>RS_T_OilTemp_PC1</th>\n      <th>RS_T_OilTemp_PC2</th>\n    </tr>\n  </thead>\n  <tbody>\n    <tr>\n      <th>0</th>\n      <td>181.0</td>\n      <td>2023-08-01 03:44:12</td>\n      <td>50.769818</td>\n      <td>3.872114</td>\n      <td>27.0</td>\n      <td>23.0</td>\n      <td>255.0</td>\n      <td>238.0</td>\n      <td>794.0</td>\n      <td>801.0</td>\n      <td>83.0</td>\n      <td>81.0</td>\n      <td>76.0</td>\n      <td>77.0</td>\n    </tr>\n    <tr>\n      <th>1</th>\n      <td>143.0</td>\n      <td>2023-08-01 06:36:29</td>\n      <td>51.039993</td>\n      <td>3.693429</td>\n      <td>33.0</td>\n      <td>32.0</td>\n      <td>272.0</td>\n      <td>324.0</td>\n      <td>802.0</td>\n      <td>804.0</td>\n      <td>78.0</td>\n      <td>78.0</td>\n      <td>73.0</td>\n      <td>74.0</td>\n    </tr>\n    <tr>\n      <th>2</th>\n      <td>183.0</td>\n      <td>2023-08-24 06:53:54</td>\n      <td>50.742203</td>\n      <td>3.602035</td>\n      <td>31.0</td>\n      <td>33.0</td>\n      <td>234.0</td>\n      <td>182.0</td>\n      <td>799.0</td>\n      <td>802.0</td>\n      <td>82.0</td>\n      <td>82.0</td>\n      <td>85.0</td>\n      <td>87.0</td>\n    </tr>\n    <tr>\n      <th>3</th>\n      <td>177.0</td>\n      <td>2023-08-01 13:53:38</td>\n      <td>50.930914</td>\n      <td>5.327132</td>\n      <td>35.0</td>\n      <td>38.0</td>\n      <td>220.0</td>\n      <td>244.0</td>\n      <td>794.0</td>\n      <td>801.0</td>\n      <td>77.0</td>\n      <td>81.0</td>\n      <td>78.0</td>\n      <td>82.0</td>\n    </tr>\n    <tr>\n      <th>4</th>\n      <td>143.0</td>\n      <td>2023-08-24 07:02:30</td>\n      <td>51.180773</td>\n      <td>3.575259</td>\n      <td>41.0</td>\n      <td>34.0</td>\n      <td>227.0</td>\n      <td>282.0</td>\n      <td>806.0</td>\n      <td>800.0</td>\n      <td>85.0</td>\n      <td>78.0</td>\n      <td>82.0</td>\n      <td>79.0</td>\n    </tr>\n  </tbody>\n</table>\n</div>"
     },
     "execution_count": 4,
     "metadata": {},
     "output_type": "execute_result"
    }
   ],
   "source": [
    "df=df.loc[:, ~df.columns.str.contains('^Unnamed')]"
   ],
   "metadata": {
    "collapsed": false,
    "ExecuteTime": {
     "end_time": "2023-11-29T12:55:45.844460200Z",
     "start_time": "2023-11-29T12:55:44.296646700Z"
    }
   },
   "id": "900a095a6c476456"
  },
  {
   "cell_type": "code",
   "execution_count": null,
   "outputs": [],
   "source": [
    "df = df.drop(df[df.lat > 51.45].index)\n",
    "df = df.drop(df[df.lat < 49.9].index)\n",
    "df = df.drop(df[df.lon > 6.15].index)\n",
    "df = df.drop(df[df.lon < 3.4].index)\n",
    "\n",
    "df = df.drop(df[(df.lon > 5.1) & (df.lat < 50.35)].index)"
   ],
   "metadata": {
    "collapsed": false
   },
   "id": "2d25acfaca155618"
  },
  {
   "cell_type": "code",
   "execution_count": 34,
   "outputs": [],
   "source": [
    "df['weather_api_point_id'] = df.apply(lambda x: find_closest(x.lon, x.lat), axis=1)"
   ],
   "metadata": {
    "collapsed": false,
    "ExecuteTime": {
     "end_time": "2023-11-29T19:56:17.777531500Z",
     "start_time": "2023-11-29T19:47:39.028961200Z"
    }
   },
   "id": "be11653fe82bebef"
  },
  {
   "cell_type": "code",
   "execution_count": 12,
   "outputs": [],
   "source": [
    "df['timestamps_UTC']= pd.to_datetime(df['timestamps_UTC'])"
   ],
   "metadata": {
    "collapsed": false,
    "ExecuteTime": {
     "end_time": "2023-11-29T18:35:48.430407900Z",
     "start_time": "2023-11-29T18:35:35.016719Z"
    }
   },
   "id": "c40aab259b788611"
  },
  {
   "cell_type": "code",
   "execution_count": 27,
   "outputs": [],
   "source": [
    "df['weather_api_timestamps'] = df['timestamps_UTC'].apply(find_timestamp)"
   ],
   "metadata": {
    "collapsed": false,
    "ExecuteTime": {
     "end_time": "2023-11-29T19:42:58.963239300Z",
     "start_time": "2023-11-29T19:42:23.501330900Z"
    }
   },
   "id": "9c50db2784072e9"
  },
  {
   "cell_type": "code",
   "execution_count": 35,
   "outputs": [
    {
     "data": {
      "text/plain": "    mapped_veh_id      timestamps_UTC        lat       lon  \\\n0           181.0 2023-08-01 03:44:12  50.769818  3.872114   \n1           143.0 2023-08-01 06:36:29  51.039993  3.693429   \n2           183.0 2023-08-24 06:53:54  50.742203  3.602035   \n3           177.0 2023-08-01 13:53:38  50.930914  5.327132   \n4           143.0 2023-08-24 07:02:30  51.180773  3.575259   \n..            ...                 ...        ...       ...   \n95          181.0 2023-08-24 05:26:20  51.149477  4.521748   \n96          121.0 2023-08-24 05:26:38  50.466237  3.948079   \n97          159.0 2023-08-24 05:28:50  50.788946  3.869880   \n98          179.0 2023-08-24 05:34:59  51.159618  4.664623   \n99          121.0 2023-08-24 05:40:30  50.461220  3.948056   \n\n    RS_E_InAirTemp_PC1  RS_E_InAirTemp_PC2  RS_E_OilPress_PC1  \\\n0                 27.0                23.0              255.0   \n1                 33.0                32.0              272.0   \n2                 31.0                33.0              234.0   \n3                 35.0                38.0              220.0   \n4                 41.0                34.0              227.0   \n..                 ...                 ...                ...   \n95                48.0                41.0              213.0   \n96                40.0                36.5              217.0   \n97                35.0                26.0              324.0   \n98                38.0                40.0              396.0   \n99                40.0                36.0              217.0   \n\n    RS_E_OilPress_PC2  RS_E_RPM_PC1  RS_E_RPM_PC2  RS_E_WatTemp_PC1  \\\n0               238.0         794.0         801.0              83.0   \n1               324.0         802.0         804.0              78.0   \n2               182.0         799.0         802.0              82.0   \n3               244.0         794.0         801.0              77.0   \n4               282.0         806.0         800.0              85.0   \n..                ...           ...           ...               ...   \n95              196.0         799.0         797.0              87.0   \n96              213.0         789.0         800.5              86.5   \n97              414.0        1316.0        1331.0              82.0   \n98              372.0        1981.0        1956.0              82.0   \n99              217.0         814.0         808.0              85.0   \n\n    RS_E_WatTemp_PC2  RS_T_OilTemp_PC1  RS_T_OilTemp_PC2  \\\n0               81.0              76.0              77.0   \n1               78.0              73.0              74.0   \n2               82.0              85.0              87.0   \n3               81.0              78.0              82.0   \n4               78.0              82.0              79.0   \n..               ...               ...               ...   \n95              89.0              81.0              87.0   \n96              87.0              85.5              84.5   \n97              84.0              84.0              87.0   \n98              83.0              82.0              84.0   \n99              81.0              87.0              86.0   \n\n    weather_api_point_id weather_api_timestamps  \n0                     12    2023-08-01 03:00:00  \n1                      0    2023-08-01 06:00:00  \n2                     12    2023-08-24 06:00:00  \n3                      5    2023-08-01 15:00:00  \n4                      0    2023-08-24 06:00:00  \n..                   ...                    ...  \n95                     1    2023-08-24 06:00:00  \n96                    11    2023-08-24 06:00:00  \n97                    12    2023-08-24 06:00:00  \n98                     1    2023-08-24 06:00:00  \n99                    11    2023-08-24 06:00:00  \n\n[100 rows x 16 columns]",
      "text/html": "<div>\n<style scoped>\n    .dataframe tbody tr th:only-of-type {\n        vertical-align: middle;\n    }\n\n    .dataframe tbody tr th {\n        vertical-align: top;\n    }\n\n    .dataframe thead th {\n        text-align: right;\n    }\n</style>\n<table border=\"1\" class=\"dataframe\">\n  <thead>\n    <tr style=\"text-align: right;\">\n      <th></th>\n      <th>mapped_veh_id</th>\n      <th>timestamps_UTC</th>\n      <th>lat</th>\n      <th>lon</th>\n      <th>RS_E_InAirTemp_PC1</th>\n      <th>RS_E_InAirTemp_PC2</th>\n      <th>RS_E_OilPress_PC1</th>\n      <th>RS_E_OilPress_PC2</th>\n      <th>RS_E_RPM_PC1</th>\n      <th>RS_E_RPM_PC2</th>\n      <th>RS_E_WatTemp_PC1</th>\n      <th>RS_E_WatTemp_PC2</th>\n      <th>RS_T_OilTemp_PC1</th>\n      <th>RS_T_OilTemp_PC2</th>\n      <th>weather_api_point_id</th>\n      <th>weather_api_timestamps</th>\n    </tr>\n  </thead>\n  <tbody>\n    <tr>\n      <th>0</th>\n      <td>181.0</td>\n      <td>2023-08-01 03:44:12</td>\n      <td>50.769818</td>\n      <td>3.872114</td>\n      <td>27.0</td>\n      <td>23.0</td>\n      <td>255.0</td>\n      <td>238.0</td>\n      <td>794.0</td>\n      <td>801.0</td>\n      <td>83.0</td>\n      <td>81.0</td>\n      <td>76.0</td>\n      <td>77.0</td>\n      <td>12</td>\n      <td>2023-08-01 03:00:00</td>\n    </tr>\n    <tr>\n      <th>1</th>\n      <td>143.0</td>\n      <td>2023-08-01 06:36:29</td>\n      <td>51.039993</td>\n      <td>3.693429</td>\n      <td>33.0</td>\n      <td>32.0</td>\n      <td>272.0</td>\n      <td>324.0</td>\n      <td>802.0</td>\n      <td>804.0</td>\n      <td>78.0</td>\n      <td>78.0</td>\n      <td>73.0</td>\n      <td>74.0</td>\n      <td>0</td>\n      <td>2023-08-01 06:00:00</td>\n    </tr>\n    <tr>\n      <th>2</th>\n      <td>183.0</td>\n      <td>2023-08-24 06:53:54</td>\n      <td>50.742203</td>\n      <td>3.602035</td>\n      <td>31.0</td>\n      <td>33.0</td>\n      <td>234.0</td>\n      <td>182.0</td>\n      <td>799.0</td>\n      <td>802.0</td>\n      <td>82.0</td>\n      <td>82.0</td>\n      <td>85.0</td>\n      <td>87.0</td>\n      <td>12</td>\n      <td>2023-08-24 06:00:00</td>\n    </tr>\n    <tr>\n      <th>3</th>\n      <td>177.0</td>\n      <td>2023-08-01 13:53:38</td>\n      <td>50.930914</td>\n      <td>5.327132</td>\n      <td>35.0</td>\n      <td>38.0</td>\n      <td>220.0</td>\n      <td>244.0</td>\n      <td>794.0</td>\n      <td>801.0</td>\n      <td>77.0</td>\n      <td>81.0</td>\n      <td>78.0</td>\n      <td>82.0</td>\n      <td>5</td>\n      <td>2023-08-01 15:00:00</td>\n    </tr>\n    <tr>\n      <th>4</th>\n      <td>143.0</td>\n      <td>2023-08-24 07:02:30</td>\n      <td>51.180773</td>\n      <td>3.575259</td>\n      <td>41.0</td>\n      <td>34.0</td>\n      <td>227.0</td>\n      <td>282.0</td>\n      <td>806.0</td>\n      <td>800.0</td>\n      <td>85.0</td>\n      <td>78.0</td>\n      <td>82.0</td>\n      <td>79.0</td>\n      <td>0</td>\n      <td>2023-08-24 06:00:00</td>\n    </tr>\n    <tr>\n      <th>...</th>\n      <td>...</td>\n      <td>...</td>\n      <td>...</td>\n      <td>...</td>\n      <td>...</td>\n      <td>...</td>\n      <td>...</td>\n      <td>...</td>\n      <td>...</td>\n      <td>...</td>\n      <td>...</td>\n      <td>...</td>\n      <td>...</td>\n      <td>...</td>\n      <td>...</td>\n      <td>...</td>\n    </tr>\n    <tr>\n      <th>95</th>\n      <td>181.0</td>\n      <td>2023-08-24 05:26:20</td>\n      <td>51.149477</td>\n      <td>4.521748</td>\n      <td>48.0</td>\n      <td>41.0</td>\n      <td>213.0</td>\n      <td>196.0</td>\n      <td>799.0</td>\n      <td>797.0</td>\n      <td>87.0</td>\n      <td>89.0</td>\n      <td>81.0</td>\n      <td>87.0</td>\n      <td>1</td>\n      <td>2023-08-24 06:00:00</td>\n    </tr>\n    <tr>\n      <th>96</th>\n      <td>121.0</td>\n      <td>2023-08-24 05:26:38</td>\n      <td>50.466237</td>\n      <td>3.948079</td>\n      <td>40.0</td>\n      <td>36.5</td>\n      <td>217.0</td>\n      <td>213.0</td>\n      <td>789.0</td>\n      <td>800.5</td>\n      <td>86.5</td>\n      <td>87.0</td>\n      <td>85.5</td>\n      <td>84.5</td>\n      <td>11</td>\n      <td>2023-08-24 06:00:00</td>\n    </tr>\n    <tr>\n      <th>97</th>\n      <td>159.0</td>\n      <td>2023-08-24 05:28:50</td>\n      <td>50.788946</td>\n      <td>3.869880</td>\n      <td>35.0</td>\n      <td>26.0</td>\n      <td>324.0</td>\n      <td>414.0</td>\n      <td>1316.0</td>\n      <td>1331.0</td>\n      <td>82.0</td>\n      <td>84.0</td>\n      <td>84.0</td>\n      <td>87.0</td>\n      <td>12</td>\n      <td>2023-08-24 06:00:00</td>\n    </tr>\n    <tr>\n      <th>98</th>\n      <td>179.0</td>\n      <td>2023-08-24 05:34:59</td>\n      <td>51.159618</td>\n      <td>4.664623</td>\n      <td>38.0</td>\n      <td>40.0</td>\n      <td>396.0</td>\n      <td>372.0</td>\n      <td>1981.0</td>\n      <td>1956.0</td>\n      <td>82.0</td>\n      <td>83.0</td>\n      <td>82.0</td>\n      <td>84.0</td>\n      <td>1</td>\n      <td>2023-08-24 06:00:00</td>\n    </tr>\n    <tr>\n      <th>99</th>\n      <td>121.0</td>\n      <td>2023-08-24 05:40:30</td>\n      <td>50.461220</td>\n      <td>3.948056</td>\n      <td>40.0</td>\n      <td>36.0</td>\n      <td>217.0</td>\n      <td>217.0</td>\n      <td>814.0</td>\n      <td>808.0</td>\n      <td>85.0</td>\n      <td>81.0</td>\n      <td>87.0</td>\n      <td>86.0</td>\n      <td>11</td>\n      <td>2023-08-24 06:00:00</td>\n    </tr>\n  </tbody>\n</table>\n<p>100 rows × 16 columns</p>\n</div>"
     },
     "execution_count": 35,
     "metadata": {},
     "output_type": "execute_result"
    }
   ],
   "source": [
    "df.head(100)"
   ],
   "metadata": {
    "collapsed": false,
    "ExecuteTime": {
     "end_time": "2023-11-29T21:54:35.545535700Z",
     "start_time": "2023-11-29T21:54:35.401319400Z"
    }
   },
   "id": "f002d364fb7981f3"
  },
  {
   "cell_type": "markdown",
   "source": [
    "# Read and process weather data"
   ],
   "metadata": {
    "collapsed": false
   },
   "id": "aaba12c2e01b95d3"
  },
  {
   "cell_type": "code",
   "execution_count": 46,
   "outputs": [
    {
     "data": {
      "text/plain": "           dt     sunrise      sunset   temp  feels_like  pressure  humidity  \\\n0  1672527600  1672559313  1672588087  15.06       14.34      1008        66   \n1  1672527600  1672559193  1672587874  15.86       15.09      1008        61   \n2  1672527600  1672559015  1672587708  15.45       14.54      1010        57   \n3  1672527600  1672559092  1672587992  15.99       15.05      1009        54   \n4  1672527600  1672559026  1672587898  16.41       15.49      1010        53   \n\n   dew_point  clouds  wind_speed  wind_deg weather_main weather_description  \\\n0       8.76      98       10.42       219       Clouds     overcast clouds   \n1       8.36     100        9.26       210       Clouds     overcast clouds   \n2       6.98      78       10.20       223       Clouds       broken clouds   \n3       6.70       0       12.35       230        Clear           clear sky   \n4       6.82      75       12.35       230       Clouds       broken clouds   \n\n  weather_icon  rain_1h  latitude  longitude         timezone  \\\n0          04n      0.0   51.0530     3.7216  Europe/Brussels   \n1          04n      0.0   51.2128     4.4139  Europe/Brussels   \n2          04n      0.0   51.1915     5.1317  Europe/Brussels   \n3          01n      0.0   50.8336     4.3798  Europe/Brussels   \n4          04n      0.0   50.8826     4.7121  Europe/Brussels   \n\n           dt_datetime                     dt_cet  \n0  2022-12-31 23:00:00  2023-01-01 00:00:00+01:00  \n1  2022-12-31 23:00:00  2023-01-01 00:00:00+01:00  \n2  2022-12-31 23:00:00  2023-01-01 00:00:00+01:00  \n3  2022-12-31 23:00:00  2023-01-01 00:00:00+01:00  \n4  2022-12-31 23:00:00  2023-01-01 00:00:00+01:00  ",
      "text/html": "<div>\n<style scoped>\n    .dataframe tbody tr th:only-of-type {\n        vertical-align: middle;\n    }\n\n    .dataframe tbody tr th {\n        vertical-align: top;\n    }\n\n    .dataframe thead th {\n        text-align: right;\n    }\n</style>\n<table border=\"1\" class=\"dataframe\">\n  <thead>\n    <tr style=\"text-align: right;\">\n      <th></th>\n      <th>dt</th>\n      <th>sunrise</th>\n      <th>sunset</th>\n      <th>temp</th>\n      <th>feels_like</th>\n      <th>pressure</th>\n      <th>humidity</th>\n      <th>dew_point</th>\n      <th>clouds</th>\n      <th>wind_speed</th>\n      <th>wind_deg</th>\n      <th>weather_main</th>\n      <th>weather_description</th>\n      <th>weather_icon</th>\n      <th>rain_1h</th>\n      <th>latitude</th>\n      <th>longitude</th>\n      <th>timezone</th>\n      <th>dt_datetime</th>\n      <th>dt_cet</th>\n    </tr>\n  </thead>\n  <tbody>\n    <tr>\n      <th>0</th>\n      <td>1672527600</td>\n      <td>1672559313</td>\n      <td>1672588087</td>\n      <td>15.06</td>\n      <td>14.34</td>\n      <td>1008</td>\n      <td>66</td>\n      <td>8.76</td>\n      <td>98</td>\n      <td>10.42</td>\n      <td>219</td>\n      <td>Clouds</td>\n      <td>overcast clouds</td>\n      <td>04n</td>\n      <td>0.0</td>\n      <td>51.0530</td>\n      <td>3.7216</td>\n      <td>Europe/Brussels</td>\n      <td>2022-12-31 23:00:00</td>\n      <td>2023-01-01 00:00:00+01:00</td>\n    </tr>\n    <tr>\n      <th>1</th>\n      <td>1672527600</td>\n      <td>1672559193</td>\n      <td>1672587874</td>\n      <td>15.86</td>\n      <td>15.09</td>\n      <td>1008</td>\n      <td>61</td>\n      <td>8.36</td>\n      <td>100</td>\n      <td>9.26</td>\n      <td>210</td>\n      <td>Clouds</td>\n      <td>overcast clouds</td>\n      <td>04n</td>\n      <td>0.0</td>\n      <td>51.2128</td>\n      <td>4.4139</td>\n      <td>Europe/Brussels</td>\n      <td>2022-12-31 23:00:00</td>\n      <td>2023-01-01 00:00:00+01:00</td>\n    </tr>\n    <tr>\n      <th>2</th>\n      <td>1672527600</td>\n      <td>1672559015</td>\n      <td>1672587708</td>\n      <td>15.45</td>\n      <td>14.54</td>\n      <td>1010</td>\n      <td>57</td>\n      <td>6.98</td>\n      <td>78</td>\n      <td>10.20</td>\n      <td>223</td>\n      <td>Clouds</td>\n      <td>broken clouds</td>\n      <td>04n</td>\n      <td>0.0</td>\n      <td>51.1915</td>\n      <td>5.1317</td>\n      <td>Europe/Brussels</td>\n      <td>2022-12-31 23:00:00</td>\n      <td>2023-01-01 00:00:00+01:00</td>\n    </tr>\n    <tr>\n      <th>3</th>\n      <td>1672527600</td>\n      <td>1672559092</td>\n      <td>1672587992</td>\n      <td>15.99</td>\n      <td>15.05</td>\n      <td>1009</td>\n      <td>54</td>\n      <td>6.70</td>\n      <td>0</td>\n      <td>12.35</td>\n      <td>230</td>\n      <td>Clear</td>\n      <td>clear sky</td>\n      <td>01n</td>\n      <td>0.0</td>\n      <td>50.8336</td>\n      <td>4.3798</td>\n      <td>Europe/Brussels</td>\n      <td>2022-12-31 23:00:00</td>\n      <td>2023-01-01 00:00:00+01:00</td>\n    </tr>\n    <tr>\n      <th>4</th>\n      <td>1672527600</td>\n      <td>1672559026</td>\n      <td>1672587898</td>\n      <td>16.41</td>\n      <td>15.49</td>\n      <td>1010</td>\n      <td>53</td>\n      <td>6.82</td>\n      <td>75</td>\n      <td>12.35</td>\n      <td>230</td>\n      <td>Clouds</td>\n      <td>broken clouds</td>\n      <td>04n</td>\n      <td>0.0</td>\n      <td>50.8826</td>\n      <td>4.7121</td>\n      <td>Europe/Brussels</td>\n      <td>2022-12-31 23:00:00</td>\n      <td>2023-01-01 00:00:00+01:00</td>\n    </tr>\n  </tbody>\n</table>\n</div>"
     },
     "execution_count": 46,
     "metadata": {},
     "output_type": "execute_result"
    }
   ],
   "source": [
    "df_weather = pd.read_csv('final_dataframe.csv', sep = ',')\n",
    "df_weather.head(5)\n"
   ],
   "metadata": {
    "collapsed": false,
    "ExecuteTime": {
     "end_time": "2023-11-29T22:14:46.124479900Z",
     "start_time": "2023-11-29T22:14:45.943746900Z"
    }
   },
   "id": "ff718d8821e98a59"
  },
  {
   "cell_type": "code",
   "execution_count": 47,
   "outputs": [],
   "source": [
    "df_weather['weather_api_point_id'] = df_weather.apply(lambda x: find_closest(x.longitude, x.latitude), axis=1)\n"
   ],
   "metadata": {
    "collapsed": false,
    "ExecuteTime": {
     "end_time": "2023-11-29T22:14:51.916123400Z",
     "start_time": "2023-11-29T22:14:51.148952200Z"
    }
   },
   "id": "ba553a45ab6bbe76"
  },
  {
   "cell_type": "code",
   "execution_count": 48,
   "outputs": [
    {
     "data": {
      "text/plain": "               dt     sunrise      sunset   temp  feels_like  pressure  \\\n30715  1687816800  1687836758  1687895594  14.06       13.45      1023   \n30716  1687816800  1687836862  1687895987  15.24       14.83      1022   \n30717  1687816800  1687836779  1687896109  16.16       15.82      1022   \n30718  1687816800  1687836496  1687895804  15.95       15.66      1020   \n30719  1687816800  1687836223  1687895861  15.22       14.70      1020   \n\n       humidity  dew_point  clouds  wind_speed  ...  weather_main  \\\n30715        74       9.50      86        3.22  ...        Clouds   \n30716        77      11.24      40        2.06  ...        Clouds   \n30717        76      11.93      97        3.43  ...        Clouds   \n30718        79      12.32      97        2.88  ...        Clouds   \n30719        73      10.42      57        2.06  ...        Clouds   \n\n      weather_description weather_icon rain_1h  latitude  longitude  \\\n30715     overcast clouds          04n     0.0   49.9859     4.9847   \n30716    scattered clouds          03n     0.0   50.4524     3.9474   \n30717     overcast clouds          04n     0.0   50.7761     3.8686   \n30718     overcast clouds          04n     0.0   50.7420     5.0934   \n30719       broken clouds          04n     0.0   51.2511     5.5428   \n\n              timezone          dt_datetime                     dt_cet  \\\n30715  Europe/Brussels  2023-06-26 22:00:00  2023-06-27 00:00:00+02:00   \n30716  Europe/Brussels  2023-06-26 22:00:00  2023-06-27 00:00:00+02:00   \n30717  Europe/Brussels  2023-06-26 22:00:00  2023-06-27 00:00:00+02:00   \n30718  Europe/Brussels  2023-06-26 22:00:00  2023-06-27 00:00:00+02:00   \n30719  Europe/Brussels  2023-06-26 22:00:00  2023-06-27 00:00:00+02:00   \n\n      weather_api_point_id  \n30715                   10  \n30716                   11  \n30717                   12  \n30718                   13  \n30719                   14  \n\n[5 rows x 21 columns]",
      "text/html": "<div>\n<style scoped>\n    .dataframe tbody tr th:only-of-type {\n        vertical-align: middle;\n    }\n\n    .dataframe tbody tr th {\n        vertical-align: top;\n    }\n\n    .dataframe thead th {\n        text-align: right;\n    }\n</style>\n<table border=\"1\" class=\"dataframe\">\n  <thead>\n    <tr style=\"text-align: right;\">\n      <th></th>\n      <th>dt</th>\n      <th>sunrise</th>\n      <th>sunset</th>\n      <th>temp</th>\n      <th>feels_like</th>\n      <th>pressure</th>\n      <th>humidity</th>\n      <th>dew_point</th>\n      <th>clouds</th>\n      <th>wind_speed</th>\n      <th>...</th>\n      <th>weather_main</th>\n      <th>weather_description</th>\n      <th>weather_icon</th>\n      <th>rain_1h</th>\n      <th>latitude</th>\n      <th>longitude</th>\n      <th>timezone</th>\n      <th>dt_datetime</th>\n      <th>dt_cet</th>\n      <th>weather_api_point_id</th>\n    </tr>\n  </thead>\n  <tbody>\n    <tr>\n      <th>30715</th>\n      <td>1687816800</td>\n      <td>1687836758</td>\n      <td>1687895594</td>\n      <td>14.06</td>\n      <td>13.45</td>\n      <td>1023</td>\n      <td>74</td>\n      <td>9.50</td>\n      <td>86</td>\n      <td>3.22</td>\n      <td>...</td>\n      <td>Clouds</td>\n      <td>overcast clouds</td>\n      <td>04n</td>\n      <td>0.0</td>\n      <td>49.9859</td>\n      <td>4.9847</td>\n      <td>Europe/Brussels</td>\n      <td>2023-06-26 22:00:00</td>\n      <td>2023-06-27 00:00:00+02:00</td>\n      <td>10</td>\n    </tr>\n    <tr>\n      <th>30716</th>\n      <td>1687816800</td>\n      <td>1687836862</td>\n      <td>1687895987</td>\n      <td>15.24</td>\n      <td>14.83</td>\n      <td>1022</td>\n      <td>77</td>\n      <td>11.24</td>\n      <td>40</td>\n      <td>2.06</td>\n      <td>...</td>\n      <td>Clouds</td>\n      <td>scattered clouds</td>\n      <td>03n</td>\n      <td>0.0</td>\n      <td>50.4524</td>\n      <td>3.9474</td>\n      <td>Europe/Brussels</td>\n      <td>2023-06-26 22:00:00</td>\n      <td>2023-06-27 00:00:00+02:00</td>\n      <td>11</td>\n    </tr>\n    <tr>\n      <th>30717</th>\n      <td>1687816800</td>\n      <td>1687836779</td>\n      <td>1687896109</td>\n      <td>16.16</td>\n      <td>15.82</td>\n      <td>1022</td>\n      <td>76</td>\n      <td>11.93</td>\n      <td>97</td>\n      <td>3.43</td>\n      <td>...</td>\n      <td>Clouds</td>\n      <td>overcast clouds</td>\n      <td>04n</td>\n      <td>0.0</td>\n      <td>50.7761</td>\n      <td>3.8686</td>\n      <td>Europe/Brussels</td>\n      <td>2023-06-26 22:00:00</td>\n      <td>2023-06-27 00:00:00+02:00</td>\n      <td>12</td>\n    </tr>\n    <tr>\n      <th>30718</th>\n      <td>1687816800</td>\n      <td>1687836496</td>\n      <td>1687895804</td>\n      <td>15.95</td>\n      <td>15.66</td>\n      <td>1020</td>\n      <td>79</td>\n      <td>12.32</td>\n      <td>97</td>\n      <td>2.88</td>\n      <td>...</td>\n      <td>Clouds</td>\n      <td>overcast clouds</td>\n      <td>04n</td>\n      <td>0.0</td>\n      <td>50.7420</td>\n      <td>5.0934</td>\n      <td>Europe/Brussels</td>\n      <td>2023-06-26 22:00:00</td>\n      <td>2023-06-27 00:00:00+02:00</td>\n      <td>13</td>\n    </tr>\n    <tr>\n      <th>30719</th>\n      <td>1687816800</td>\n      <td>1687836223</td>\n      <td>1687895861</td>\n      <td>15.22</td>\n      <td>14.70</td>\n      <td>1020</td>\n      <td>73</td>\n      <td>10.42</td>\n      <td>57</td>\n      <td>2.06</td>\n      <td>...</td>\n      <td>Clouds</td>\n      <td>broken clouds</td>\n      <td>04n</td>\n      <td>0.0</td>\n      <td>51.2511</td>\n      <td>5.5428</td>\n      <td>Europe/Brussels</td>\n      <td>2023-06-26 22:00:00</td>\n      <td>2023-06-27 00:00:00+02:00</td>\n      <td>14</td>\n    </tr>\n  </tbody>\n</table>\n<p>5 rows × 21 columns</p>\n</div>"
     },
     "execution_count": 48,
     "metadata": {},
     "output_type": "execute_result"
    }
   ],
   "source": [
    "df_weather.tail(5)"
   ],
   "metadata": {
    "collapsed": false,
    "ExecuteTime": {
     "end_time": "2023-11-29T22:14:52.829615600Z",
     "start_time": "2023-11-29T22:14:52.808894700Z"
    }
   },
   "id": "91b28bca097e8021"
  },
  {
   "cell_type": "code",
   "execution_count": 50,
   "outputs": [],
   "source": [
    "df_weather['dt_datetime'] = pd.to_datetime(df_weather['dt_datetime'])"
   ],
   "metadata": {
    "collapsed": false,
    "ExecuteTime": {
     "end_time": "2023-11-29T22:15:16.554959200Z",
     "start_time": "2023-11-29T22:15:16.531636600Z"
    }
   },
   "id": "632bc48f86ac7e4"
  },
  {
   "cell_type": "code",
   "execution_count": 49,
   "outputs": [],
   "source": [
    "def adjust_timezone(dt_datetime):\n",
    "    if dt_datetime > datetime.datetime(2023,3,26,0):\n",
    "        dt_datetime += datetime.timedelta(hours=2)\n",
    "    else:\n",
    "        dt_datetime += datetime.timedelta(hours=1)\n",
    "    return dt_datetime"
   ],
   "metadata": {
    "collapsed": false,
    "ExecuteTime": {
     "start_time": "2023-11-29T22:15:13.020245200Z"
    }
   },
   "id": "50406577729b3502"
  },
  {
   "cell_type": "code",
   "execution_count": 51,
   "outputs": [],
   "source": [
    "df_weather['dt_datetime'] = df_weather['dt_datetime'].apply(adjust_timezone)"
   ],
   "metadata": {
    "collapsed": false,
    "ExecuteTime": {
     "end_time": "2023-11-29T22:15:42.073173Z",
     "start_time": "2023-11-29T22:15:41.758190400Z"
    }
   },
   "id": "6501b8760611b8a0"
  },
  {
   "cell_type": "code",
   "execution_count": 53,
   "outputs": [
    {
     "data": {
      "text/plain": "            dt     sunrise      sunset   temp  feels_like  pressure  humidity  \\\n0   1672527600  1672559313  1672588087  15.06       14.34      1008        66   \n1   1672527600  1672559193  1672587874  15.86       15.09      1008        61   \n2   1672527600  1672559015  1672587708  15.45       14.54      1010        57   \n3   1672527600  1672559092  1672587992  15.99       15.05      1009        54   \n4   1672527600  1672559026  1672587898  16.41       15.49      1010        53   \n..         ...         ...         ...    ...         ...       ...       ...   \n95  1672592400  1672558892  1672587738  11.09       10.60      1015        90   \n96  1672592400  1672558756  1672587770  10.76       10.29      1017        92   \n97  1672592400  1672558973  1672588110   9.70        7.58      1015        96   \n98  1672592400  1672558870  1672587980  10.95       10.45      1015        90   \n99  1672592400  1672558848  1672588181  10.50       10.22      1015       100   \n\n    dew_point  clouds  wind_speed  ...  weather_main weather_description  \\\n0        8.76      98       10.42  ...        Clouds     overcast clouds   \n1        8.36     100        9.26  ...        Clouds     overcast clouds   \n2        6.98      78       10.20  ...        Clouds       broken clouds   \n3        6.70       0       12.35  ...         Clear           clear sky   \n4        6.82      75       12.35  ...        Clouds       broken clouds   \n..        ...     ...         ...  ...           ...                 ...   \n95       9.51     100        4.12  ...          Rain          light rain   \n96       9.51      75        4.12  ...          Rain          light rain   \n97       9.09      20        4.12  ...          Rain       moderate rain   \n98       9.38     100        5.00  ...          Rain       moderate rain   \n99      10.50     100        4.00  ...          Rain       moderate rain   \n\n   weather_icon rain_1h  latitude  longitude         timezone  \\\n0           04n    0.00   51.0530     3.7216  Europe/Brussels   \n1           04n    0.00   51.2128     4.4139  Europe/Brussels   \n2           04n    0.00   51.1915     5.1317  Europe/Brussels   \n3           01n    0.00   50.8336     4.3798  Europe/Brussels   \n4           04n    0.00   50.8826     4.7121  Europe/Brussels   \n..          ...     ...       ...        ...              ...   \n95          10n    0.76   50.9273     5.3255  Europe/Brussels   \n96          10n    0.95   50.6334     5.5407  Europe/Brussels   \n97          10n    1.52   50.4140     4.3798  Europe/Brussels   \n98          10n    1.04   50.4630     4.8676  Europe/Brussels   \n99          10n    1.18   50.0604     4.4927  Europe/Brussels   \n\n           dt_datetime                     dt_cet weather_api_point_id  \n0  2023-01-01 00:00:00  2023-01-01 00:00:00+01:00                    0  \n1  2023-01-01 00:00:00  2023-01-01 00:00:00+01:00                    1  \n2  2023-01-01 00:00:00  2023-01-01 00:00:00+01:00                    2  \n3  2023-01-01 00:00:00  2023-01-01 00:00:00+01:00                    3  \n4  2023-01-01 00:00:00  2023-01-01 00:00:00+01:00                    4  \n..                 ...                        ...                  ...  \n95 2023-01-01 18:00:00  2023-01-01 18:00:00+01:00                    5  \n96 2023-01-01 18:00:00  2023-01-01 18:00:00+01:00                    6  \n97 2023-01-01 18:00:00  2023-01-01 18:00:00+01:00                    7  \n98 2023-01-01 18:00:00  2023-01-01 18:00:00+01:00                    8  \n99 2023-01-01 18:00:00  2023-01-01 18:00:00+01:00                    9  \n\n[100 rows x 21 columns]",
      "text/html": "<div>\n<style scoped>\n    .dataframe tbody tr th:only-of-type {\n        vertical-align: middle;\n    }\n\n    .dataframe tbody tr th {\n        vertical-align: top;\n    }\n\n    .dataframe thead th {\n        text-align: right;\n    }\n</style>\n<table border=\"1\" class=\"dataframe\">\n  <thead>\n    <tr style=\"text-align: right;\">\n      <th></th>\n      <th>dt</th>\n      <th>sunrise</th>\n      <th>sunset</th>\n      <th>temp</th>\n      <th>feels_like</th>\n      <th>pressure</th>\n      <th>humidity</th>\n      <th>dew_point</th>\n      <th>clouds</th>\n      <th>wind_speed</th>\n      <th>...</th>\n      <th>weather_main</th>\n      <th>weather_description</th>\n      <th>weather_icon</th>\n      <th>rain_1h</th>\n      <th>latitude</th>\n      <th>longitude</th>\n      <th>timezone</th>\n      <th>dt_datetime</th>\n      <th>dt_cet</th>\n      <th>weather_api_point_id</th>\n    </tr>\n  </thead>\n  <tbody>\n    <tr>\n      <th>0</th>\n      <td>1672527600</td>\n      <td>1672559313</td>\n      <td>1672588087</td>\n      <td>15.06</td>\n      <td>14.34</td>\n      <td>1008</td>\n      <td>66</td>\n      <td>8.76</td>\n      <td>98</td>\n      <td>10.42</td>\n      <td>...</td>\n      <td>Clouds</td>\n      <td>overcast clouds</td>\n      <td>04n</td>\n      <td>0.00</td>\n      <td>51.0530</td>\n      <td>3.7216</td>\n      <td>Europe/Brussels</td>\n      <td>2023-01-01 00:00:00</td>\n      <td>2023-01-01 00:00:00+01:00</td>\n      <td>0</td>\n    </tr>\n    <tr>\n      <th>1</th>\n      <td>1672527600</td>\n      <td>1672559193</td>\n      <td>1672587874</td>\n      <td>15.86</td>\n      <td>15.09</td>\n      <td>1008</td>\n      <td>61</td>\n      <td>8.36</td>\n      <td>100</td>\n      <td>9.26</td>\n      <td>...</td>\n      <td>Clouds</td>\n      <td>overcast clouds</td>\n      <td>04n</td>\n      <td>0.00</td>\n      <td>51.2128</td>\n      <td>4.4139</td>\n      <td>Europe/Brussels</td>\n      <td>2023-01-01 00:00:00</td>\n      <td>2023-01-01 00:00:00+01:00</td>\n      <td>1</td>\n    </tr>\n    <tr>\n      <th>2</th>\n      <td>1672527600</td>\n      <td>1672559015</td>\n      <td>1672587708</td>\n      <td>15.45</td>\n      <td>14.54</td>\n      <td>1010</td>\n      <td>57</td>\n      <td>6.98</td>\n      <td>78</td>\n      <td>10.20</td>\n      <td>...</td>\n      <td>Clouds</td>\n      <td>broken clouds</td>\n      <td>04n</td>\n      <td>0.00</td>\n      <td>51.1915</td>\n      <td>5.1317</td>\n      <td>Europe/Brussels</td>\n      <td>2023-01-01 00:00:00</td>\n      <td>2023-01-01 00:00:00+01:00</td>\n      <td>2</td>\n    </tr>\n    <tr>\n      <th>3</th>\n      <td>1672527600</td>\n      <td>1672559092</td>\n      <td>1672587992</td>\n      <td>15.99</td>\n      <td>15.05</td>\n      <td>1009</td>\n      <td>54</td>\n      <td>6.70</td>\n      <td>0</td>\n      <td>12.35</td>\n      <td>...</td>\n      <td>Clear</td>\n      <td>clear sky</td>\n      <td>01n</td>\n      <td>0.00</td>\n      <td>50.8336</td>\n      <td>4.3798</td>\n      <td>Europe/Brussels</td>\n      <td>2023-01-01 00:00:00</td>\n      <td>2023-01-01 00:00:00+01:00</td>\n      <td>3</td>\n    </tr>\n    <tr>\n      <th>4</th>\n      <td>1672527600</td>\n      <td>1672559026</td>\n      <td>1672587898</td>\n      <td>16.41</td>\n      <td>15.49</td>\n      <td>1010</td>\n      <td>53</td>\n      <td>6.82</td>\n      <td>75</td>\n      <td>12.35</td>\n      <td>...</td>\n      <td>Clouds</td>\n      <td>broken clouds</td>\n      <td>04n</td>\n      <td>0.00</td>\n      <td>50.8826</td>\n      <td>4.7121</td>\n      <td>Europe/Brussels</td>\n      <td>2023-01-01 00:00:00</td>\n      <td>2023-01-01 00:00:00+01:00</td>\n      <td>4</td>\n    </tr>\n    <tr>\n      <th>...</th>\n      <td>...</td>\n      <td>...</td>\n      <td>...</td>\n      <td>...</td>\n      <td>...</td>\n      <td>...</td>\n      <td>...</td>\n      <td>...</td>\n      <td>...</td>\n      <td>...</td>\n      <td>...</td>\n      <td>...</td>\n      <td>...</td>\n      <td>...</td>\n      <td>...</td>\n      <td>...</td>\n      <td>...</td>\n      <td>...</td>\n      <td>...</td>\n      <td>...</td>\n      <td>...</td>\n    </tr>\n    <tr>\n      <th>95</th>\n      <td>1672592400</td>\n      <td>1672558892</td>\n      <td>1672587738</td>\n      <td>11.09</td>\n      <td>10.60</td>\n      <td>1015</td>\n      <td>90</td>\n      <td>9.51</td>\n      <td>100</td>\n      <td>4.12</td>\n      <td>...</td>\n      <td>Rain</td>\n      <td>light rain</td>\n      <td>10n</td>\n      <td>0.76</td>\n      <td>50.9273</td>\n      <td>5.3255</td>\n      <td>Europe/Brussels</td>\n      <td>2023-01-01 18:00:00</td>\n      <td>2023-01-01 18:00:00+01:00</td>\n      <td>5</td>\n    </tr>\n    <tr>\n      <th>96</th>\n      <td>1672592400</td>\n      <td>1672558756</td>\n      <td>1672587770</td>\n      <td>10.76</td>\n      <td>10.29</td>\n      <td>1017</td>\n      <td>92</td>\n      <td>9.51</td>\n      <td>75</td>\n      <td>4.12</td>\n      <td>...</td>\n      <td>Rain</td>\n      <td>light rain</td>\n      <td>10n</td>\n      <td>0.95</td>\n      <td>50.6334</td>\n      <td>5.5407</td>\n      <td>Europe/Brussels</td>\n      <td>2023-01-01 18:00:00</td>\n      <td>2023-01-01 18:00:00+01:00</td>\n      <td>6</td>\n    </tr>\n    <tr>\n      <th>97</th>\n      <td>1672592400</td>\n      <td>1672558973</td>\n      <td>1672588110</td>\n      <td>9.70</td>\n      <td>7.58</td>\n      <td>1015</td>\n      <td>96</td>\n      <td>9.09</td>\n      <td>20</td>\n      <td>4.12</td>\n      <td>...</td>\n      <td>Rain</td>\n      <td>moderate rain</td>\n      <td>10n</td>\n      <td>1.52</td>\n      <td>50.4140</td>\n      <td>4.3798</td>\n      <td>Europe/Brussels</td>\n      <td>2023-01-01 18:00:00</td>\n      <td>2023-01-01 18:00:00+01:00</td>\n      <td>7</td>\n    </tr>\n    <tr>\n      <th>98</th>\n      <td>1672592400</td>\n      <td>1672558870</td>\n      <td>1672587980</td>\n      <td>10.95</td>\n      <td>10.45</td>\n      <td>1015</td>\n      <td>90</td>\n      <td>9.38</td>\n      <td>100</td>\n      <td>5.00</td>\n      <td>...</td>\n      <td>Rain</td>\n      <td>moderate rain</td>\n      <td>10n</td>\n      <td>1.04</td>\n      <td>50.4630</td>\n      <td>4.8676</td>\n      <td>Europe/Brussels</td>\n      <td>2023-01-01 18:00:00</td>\n      <td>2023-01-01 18:00:00+01:00</td>\n      <td>8</td>\n    </tr>\n    <tr>\n      <th>99</th>\n      <td>1672592400</td>\n      <td>1672558848</td>\n      <td>1672588181</td>\n      <td>10.50</td>\n      <td>10.22</td>\n      <td>1015</td>\n      <td>100</td>\n      <td>10.50</td>\n      <td>100</td>\n      <td>4.00</td>\n      <td>...</td>\n      <td>Rain</td>\n      <td>moderate rain</td>\n      <td>10n</td>\n      <td>1.18</td>\n      <td>50.0604</td>\n      <td>4.4927</td>\n      <td>Europe/Brussels</td>\n      <td>2023-01-01 18:00:00</td>\n      <td>2023-01-01 18:00:00+01:00</td>\n      <td>9</td>\n    </tr>\n  </tbody>\n</table>\n<p>100 rows × 21 columns</p>\n</div>"
     },
     "execution_count": 53,
     "metadata": {},
     "output_type": "execute_result"
    }
   ],
   "source": [
    "df_weather.head(100)"
   ],
   "metadata": {
    "collapsed": false,
    "ExecuteTime": {
     "end_time": "2023-11-29T22:16:09.701165Z",
     "start_time": "2023-11-29T22:16:09.655309200Z"
    }
   },
   "id": "92648cec52cd33e"
  },
  {
   "cell_type": "code",
   "execution_count": 55,
   "outputs": [
    {
     "data": {
      "text/plain": "array([ 0,  3,  6,  9, 12, 15, 18, 21], dtype=int64)"
     },
     "execution_count": 55,
     "metadata": {},
     "output_type": "execute_result"
    }
   ],
   "source": [
    "df_weather['dt_datetime'].apply(lambda x: x.hour).unique()"
   ],
   "metadata": {
    "collapsed": false,
    "ExecuteTime": {
     "end_time": "2023-11-29T22:18:12.903948800Z",
     "start_time": "2023-11-29T22:18:12.834420900Z"
    }
   },
   "id": "598368377429553"
  },
  {
   "cell_type": "code",
   "execution_count": 56,
   "outputs": [
    {
     "data": {
      "text/plain": "array([ 3,  6, 15,  9,  0, 12, 18, 21], dtype=int64)"
     },
     "execution_count": 56,
     "metadata": {},
     "output_type": "execute_result"
    }
   ],
   "source": [
    "df['weather_api_timestamps'].apply(lambda x: x.hour).unique()\n"
   ],
   "metadata": {
    "collapsed": false,
    "ExecuteTime": {
     "end_time": "2023-11-29T22:19:19.301437800Z",
     "start_time": "2023-11-29T22:19:12.970634300Z"
    }
   },
   "id": "977268006389a115"
  },
  {
   "cell_type": "code",
   "execution_count": 57,
   "outputs": [],
   "source": [
    "merged_df = pd.merge(df, df_weather,  how='left', left_on=['weather_api_timestamps','weather_api_point_id'], right_on = ['dt_datetime','weather_api_point_id'])\n"
   ],
   "metadata": {
    "collapsed": false,
    "ExecuteTime": {
     "end_time": "2023-11-29T22:22:35.275805100Z",
     "start_time": "2023-11-29T22:21:47.225146900Z"
    }
   },
   "id": "76f71d50fe790a16"
  },
  {
   "cell_type": "code",
   "execution_count": 58,
   "outputs": [
    {
     "data": {
      "text/plain": "   mapped_veh_id      timestamps_UTC        lat       lon  RS_E_InAirTemp_PC1  \\\n0          181.0 2023-08-01 03:44:12  50.769818  3.872114                27.0   \n1          143.0 2023-08-01 06:36:29  51.039993  3.693429                33.0   \n2          183.0 2023-08-24 06:53:54  50.742203  3.602035                31.0   \n3          177.0 2023-08-01 13:53:38  50.930914  5.327132                35.0   \n4          143.0 2023-08-24 07:02:30  51.180773  3.575259                41.0   \n\n   RS_E_InAirTemp_PC2  RS_E_OilPress_PC1  RS_E_OilPress_PC2  RS_E_RPM_PC1  \\\n0                23.0              255.0              238.0         794.0   \n1                32.0              272.0              324.0         802.0   \n2                33.0              234.0              182.0         799.0   \n3                38.0              220.0              244.0         794.0   \n4                34.0              227.0              282.0         806.0   \n\n   RS_E_RPM_PC2  ...  wind_deg  weather_main  weather_description  \\\n0         801.0  ...     252.0          Rain           light rain   \n1         804.0  ...     248.0         Clear            clear sky   \n2         802.0  ...     107.0        Clouds      overcast clouds   \n3         801.0  ...     258.0        Clouds        broken clouds   \n4         800.0  ...     105.0        Clouds        broken clouds   \n\n   weather_icon  rain_1h latitude  longitude         timezone  \\\n0           10n     0.12  50.7761     3.8686  Europe/Brussels   \n1           01n     0.00  51.0530     3.7216  Europe/Brussels   \n2           04n     0.00  50.7761     3.8686  Europe/Brussels   \n3           04d     0.00  50.9273     5.3255  Europe/Brussels   \n4           04n     0.00  51.0530     3.7216  Europe/Brussels   \n\n          dt_datetime                     dt_cet  \n0 2023-08-01 03:00:00  2023-08-01 03:00:00+02:00  \n1 2023-08-01 06:00:00  2023-08-01 06:00:00+02:00  \n2 2023-08-24 06:00:00  2023-08-24 06:00:00+02:00  \n3 2023-08-01 15:00:00  2023-08-01 15:00:00+02:00  \n4 2023-08-24 06:00:00  2023-08-24 06:00:00+02:00  \n\n[5 rows x 36 columns]",
      "text/html": "<div>\n<style scoped>\n    .dataframe tbody tr th:only-of-type {\n        vertical-align: middle;\n    }\n\n    .dataframe tbody tr th {\n        vertical-align: top;\n    }\n\n    .dataframe thead th {\n        text-align: right;\n    }\n</style>\n<table border=\"1\" class=\"dataframe\">\n  <thead>\n    <tr style=\"text-align: right;\">\n      <th></th>\n      <th>mapped_veh_id</th>\n      <th>timestamps_UTC</th>\n      <th>lat</th>\n      <th>lon</th>\n      <th>RS_E_InAirTemp_PC1</th>\n      <th>RS_E_InAirTemp_PC2</th>\n      <th>RS_E_OilPress_PC1</th>\n      <th>RS_E_OilPress_PC2</th>\n      <th>RS_E_RPM_PC1</th>\n      <th>RS_E_RPM_PC2</th>\n      <th>...</th>\n      <th>wind_deg</th>\n      <th>weather_main</th>\n      <th>weather_description</th>\n      <th>weather_icon</th>\n      <th>rain_1h</th>\n      <th>latitude</th>\n      <th>longitude</th>\n      <th>timezone</th>\n      <th>dt_datetime</th>\n      <th>dt_cet</th>\n    </tr>\n  </thead>\n  <tbody>\n    <tr>\n      <th>0</th>\n      <td>181.0</td>\n      <td>2023-08-01 03:44:12</td>\n      <td>50.769818</td>\n      <td>3.872114</td>\n      <td>27.0</td>\n      <td>23.0</td>\n      <td>255.0</td>\n      <td>238.0</td>\n      <td>794.0</td>\n      <td>801.0</td>\n      <td>...</td>\n      <td>252.0</td>\n      <td>Rain</td>\n      <td>light rain</td>\n      <td>10n</td>\n      <td>0.12</td>\n      <td>50.7761</td>\n      <td>3.8686</td>\n      <td>Europe/Brussels</td>\n      <td>2023-08-01 03:00:00</td>\n      <td>2023-08-01 03:00:00+02:00</td>\n    </tr>\n    <tr>\n      <th>1</th>\n      <td>143.0</td>\n      <td>2023-08-01 06:36:29</td>\n      <td>51.039993</td>\n      <td>3.693429</td>\n      <td>33.0</td>\n      <td>32.0</td>\n      <td>272.0</td>\n      <td>324.0</td>\n      <td>802.0</td>\n      <td>804.0</td>\n      <td>...</td>\n      <td>248.0</td>\n      <td>Clear</td>\n      <td>clear sky</td>\n      <td>01n</td>\n      <td>0.00</td>\n      <td>51.0530</td>\n      <td>3.7216</td>\n      <td>Europe/Brussels</td>\n      <td>2023-08-01 06:00:00</td>\n      <td>2023-08-01 06:00:00+02:00</td>\n    </tr>\n    <tr>\n      <th>2</th>\n      <td>183.0</td>\n      <td>2023-08-24 06:53:54</td>\n      <td>50.742203</td>\n      <td>3.602035</td>\n      <td>31.0</td>\n      <td>33.0</td>\n      <td>234.0</td>\n      <td>182.0</td>\n      <td>799.0</td>\n      <td>802.0</td>\n      <td>...</td>\n      <td>107.0</td>\n      <td>Clouds</td>\n      <td>overcast clouds</td>\n      <td>04n</td>\n      <td>0.00</td>\n      <td>50.7761</td>\n      <td>3.8686</td>\n      <td>Europe/Brussels</td>\n      <td>2023-08-24 06:00:00</td>\n      <td>2023-08-24 06:00:00+02:00</td>\n    </tr>\n    <tr>\n      <th>3</th>\n      <td>177.0</td>\n      <td>2023-08-01 13:53:38</td>\n      <td>50.930914</td>\n      <td>5.327132</td>\n      <td>35.0</td>\n      <td>38.0</td>\n      <td>220.0</td>\n      <td>244.0</td>\n      <td>794.0</td>\n      <td>801.0</td>\n      <td>...</td>\n      <td>258.0</td>\n      <td>Clouds</td>\n      <td>broken clouds</td>\n      <td>04d</td>\n      <td>0.00</td>\n      <td>50.9273</td>\n      <td>5.3255</td>\n      <td>Europe/Brussels</td>\n      <td>2023-08-01 15:00:00</td>\n      <td>2023-08-01 15:00:00+02:00</td>\n    </tr>\n    <tr>\n      <th>4</th>\n      <td>143.0</td>\n      <td>2023-08-24 07:02:30</td>\n      <td>51.180773</td>\n      <td>3.575259</td>\n      <td>41.0</td>\n      <td>34.0</td>\n      <td>227.0</td>\n      <td>282.0</td>\n      <td>806.0</td>\n      <td>800.0</td>\n      <td>...</td>\n      <td>105.0</td>\n      <td>Clouds</td>\n      <td>broken clouds</td>\n      <td>04n</td>\n      <td>0.00</td>\n      <td>51.0530</td>\n      <td>3.7216</td>\n      <td>Europe/Brussels</td>\n      <td>2023-08-24 06:00:00</td>\n      <td>2023-08-24 06:00:00+02:00</td>\n    </tr>\n  </tbody>\n</table>\n<p>5 rows × 36 columns</p>\n</div>"
     },
     "execution_count": 58,
     "metadata": {},
     "output_type": "execute_result"
    }
   ],
   "source": [
    "merged_df.head(5)"
   ],
   "metadata": {
    "collapsed": false,
    "ExecuteTime": {
     "end_time": "2023-11-29T22:22:50.153645900Z",
     "start_time": "2023-11-29T22:22:50.102729200Z"
    }
   },
   "id": "30741911646f992d"
  },
  {
   "cell_type": "code",
   "execution_count": 63,
   "outputs": [],
   "source": [
    "merged_df.drop(columns=['weather_api_timestamps', 'weather_api_point_id', 'dt_datetime', 'dt_cet', 'timezone', 'latitude', 'longitude', 'weather_description', 'dt', 'sunset', 'sunrise'], inplace=True)"
   ],
   "metadata": {
    "collapsed": false,
    "ExecuteTime": {
     "end_time": "2023-11-29T22:49:17.435202300Z",
     "start_time": "2023-11-29T22:49:03.868272200Z"
    }
   },
   "id": "d6816249a5fd83a2"
  },
  {
   "cell_type": "code",
   "execution_count": 64,
   "outputs": [
    {
     "data": {
      "text/plain": "   mapped_veh_id      timestamps_UTC        lat       lon  RS_E_InAirTemp_PC1  \\\n0          181.0 2023-08-01 03:44:12  50.769818  3.872114                27.0   \n1          143.0 2023-08-01 06:36:29  51.039993  3.693429                33.0   \n2          183.0 2023-08-24 06:53:54  50.742203  3.602035                31.0   \n3          177.0 2023-08-01 13:53:38  50.930914  5.327132                35.0   \n4          143.0 2023-08-24 07:02:30  51.180773  3.575259                41.0   \n\n   RS_E_InAirTemp_PC2  RS_E_OilPress_PC1  RS_E_OilPress_PC2  RS_E_RPM_PC1  \\\n0                23.0              255.0              238.0         794.0   \n1                32.0              272.0              324.0         802.0   \n2                33.0              234.0              182.0         799.0   \n3                38.0              220.0              244.0         794.0   \n4                34.0              227.0              282.0         806.0   \n\n   RS_E_RPM_PC2  ...  feels_like  pressure  humidity  dew_point  clouds  \\\n0         801.0  ...       15.33    1001.0      94.0      14.33    96.0   \n1         804.0  ...       15.83    1001.0      93.0      14.64    10.0   \n2         802.0  ...       18.37    1015.0      89.0      16.33    96.0   \n3         801.0  ...       20.58    1002.0      61.0      13.06    75.0   \n4         800.0  ...       17.85    1015.0      92.0      16.32    70.0   \n\n   wind_speed  wind_deg  weather_main  weather_icon  rain_1h  \n0        4.48     252.0          Rain           10n     0.12  \n1        5.01     248.0         Clear           01n     0.00  \n2        3.37     107.0        Clouds           04n     0.00  \n3        9.39     258.0        Clouds           04d     0.00  \n4        3.48     105.0        Clouds           04n     0.00  \n\n[5 rows x 25 columns]",
      "text/html": "<div>\n<style scoped>\n    .dataframe tbody tr th:only-of-type {\n        vertical-align: middle;\n    }\n\n    .dataframe tbody tr th {\n        vertical-align: top;\n    }\n\n    .dataframe thead th {\n        text-align: right;\n    }\n</style>\n<table border=\"1\" class=\"dataframe\">\n  <thead>\n    <tr style=\"text-align: right;\">\n      <th></th>\n      <th>mapped_veh_id</th>\n      <th>timestamps_UTC</th>\n      <th>lat</th>\n      <th>lon</th>\n      <th>RS_E_InAirTemp_PC1</th>\n      <th>RS_E_InAirTemp_PC2</th>\n      <th>RS_E_OilPress_PC1</th>\n      <th>RS_E_OilPress_PC2</th>\n      <th>RS_E_RPM_PC1</th>\n      <th>RS_E_RPM_PC2</th>\n      <th>...</th>\n      <th>feels_like</th>\n      <th>pressure</th>\n      <th>humidity</th>\n      <th>dew_point</th>\n      <th>clouds</th>\n      <th>wind_speed</th>\n      <th>wind_deg</th>\n      <th>weather_main</th>\n      <th>weather_icon</th>\n      <th>rain_1h</th>\n    </tr>\n  </thead>\n  <tbody>\n    <tr>\n      <th>0</th>\n      <td>181.0</td>\n      <td>2023-08-01 03:44:12</td>\n      <td>50.769818</td>\n      <td>3.872114</td>\n      <td>27.0</td>\n      <td>23.0</td>\n      <td>255.0</td>\n      <td>238.0</td>\n      <td>794.0</td>\n      <td>801.0</td>\n      <td>...</td>\n      <td>15.33</td>\n      <td>1001.0</td>\n      <td>94.0</td>\n      <td>14.33</td>\n      <td>96.0</td>\n      <td>4.48</td>\n      <td>252.0</td>\n      <td>Rain</td>\n      <td>10n</td>\n      <td>0.12</td>\n    </tr>\n    <tr>\n      <th>1</th>\n      <td>143.0</td>\n      <td>2023-08-01 06:36:29</td>\n      <td>51.039993</td>\n      <td>3.693429</td>\n      <td>33.0</td>\n      <td>32.0</td>\n      <td>272.0</td>\n      <td>324.0</td>\n      <td>802.0</td>\n      <td>804.0</td>\n      <td>...</td>\n      <td>15.83</td>\n      <td>1001.0</td>\n      <td>93.0</td>\n      <td>14.64</td>\n      <td>10.0</td>\n      <td>5.01</td>\n      <td>248.0</td>\n      <td>Clear</td>\n      <td>01n</td>\n      <td>0.00</td>\n    </tr>\n    <tr>\n      <th>2</th>\n      <td>183.0</td>\n      <td>2023-08-24 06:53:54</td>\n      <td>50.742203</td>\n      <td>3.602035</td>\n      <td>31.0</td>\n      <td>33.0</td>\n      <td>234.0</td>\n      <td>182.0</td>\n      <td>799.0</td>\n      <td>802.0</td>\n      <td>...</td>\n      <td>18.37</td>\n      <td>1015.0</td>\n      <td>89.0</td>\n      <td>16.33</td>\n      <td>96.0</td>\n      <td>3.37</td>\n      <td>107.0</td>\n      <td>Clouds</td>\n      <td>04n</td>\n      <td>0.00</td>\n    </tr>\n    <tr>\n      <th>3</th>\n      <td>177.0</td>\n      <td>2023-08-01 13:53:38</td>\n      <td>50.930914</td>\n      <td>5.327132</td>\n      <td>35.0</td>\n      <td>38.0</td>\n      <td>220.0</td>\n      <td>244.0</td>\n      <td>794.0</td>\n      <td>801.0</td>\n      <td>...</td>\n      <td>20.58</td>\n      <td>1002.0</td>\n      <td>61.0</td>\n      <td>13.06</td>\n      <td>75.0</td>\n      <td>9.39</td>\n      <td>258.0</td>\n      <td>Clouds</td>\n      <td>04d</td>\n      <td>0.00</td>\n    </tr>\n    <tr>\n      <th>4</th>\n      <td>143.0</td>\n      <td>2023-08-24 07:02:30</td>\n      <td>51.180773</td>\n      <td>3.575259</td>\n      <td>41.0</td>\n      <td>34.0</td>\n      <td>227.0</td>\n      <td>282.0</td>\n      <td>806.0</td>\n      <td>800.0</td>\n      <td>...</td>\n      <td>17.85</td>\n      <td>1015.0</td>\n      <td>92.0</td>\n      <td>16.32</td>\n      <td>70.0</td>\n      <td>3.48</td>\n      <td>105.0</td>\n      <td>Clouds</td>\n      <td>04n</td>\n      <td>0.00</td>\n    </tr>\n  </tbody>\n</table>\n<p>5 rows × 25 columns</p>\n</div>"
     },
     "execution_count": 64,
     "metadata": {},
     "output_type": "execute_result"
    }
   ],
   "source": [
    "merged_df.head(5)"
   ],
   "metadata": {
    "collapsed": false,
    "ExecuteTime": {
     "end_time": "2023-11-29T22:49:55.303486400Z",
     "start_time": "2023-11-29T22:49:55.182416100Z"
    }
   },
   "id": "32c6b45c0626559a"
  },
  {
   "cell_type": "code",
   "execution_count": 65,
   "outputs": [],
   "source": [
    "merged_df.to_csv('data_enriched.csv')"
   ],
   "metadata": {
    "collapsed": false,
    "ExecuteTime": {
     "end_time": "2023-11-29T22:55:38.316380500Z",
     "start_time": "2023-11-29T22:51:02.897548Z"
    }
   },
   "id": "ac14104f8ed264c4"
  }
 ],
 "metadata": {
  "kernelspec": {
   "display_name": "Python 3",
   "language": "python",
   "name": "python3"
  },
  "language_info": {
   "codemirror_mode": {
    "name": "ipython",
    "version": 2
   },
   "file_extension": ".py",
   "mimetype": "text/x-python",
   "name": "python",
   "nbconvert_exporter": "python",
   "pygments_lexer": "ipython2",
   "version": "2.7.6"
  }
 },
 "nbformat": 4,
 "nbformat_minor": 5
}
